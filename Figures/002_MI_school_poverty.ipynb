{
 "cells": [
  {
   "cell_type": "markdown",
   "id": "b0a70969",
   "metadata": {},
   "source": [
    "#### Information on how data in the `002_MI_school_poverty.ipynb` notebook was generated\n",
    "\n",
    "---\n",
    "\n",
    "1. Read in `school_data_mi.txt` file from https://www.census.gov/data/datasets/2021/demo/saipe/2021-school-districts.html.\n",
    "2. Convert the school data into a Pandas DataFrame and create new variables for the percentage of students in poverty compared to the student population and total population in school district.\n",
    "3. Plot scatter plots using `matplotlib` to view outliers in population and poverty percentages.\n",
    "\n",
    "---"
   ]
  },
  {
   "cell_type": "code",
   "execution_count": null,
   "id": "97e77f8a",
   "metadata": {},
   "outputs": [],
   "source": [
    "import pandas as pd\n",
    "import matplotlib.pyplot as plt\n",
    "%matplotlib inline"
   ]
  },
  {
   "cell_type": "code",
   "execution_count": null,
   "id": "dc534201",
   "metadata": {},
   "outputs": [],
   "source": [
    "mylines = []                             \n",
    "with open (\"school_data_mi.txt\", 'rt') as myfile: \n",
    "    for myline in myfile:                \n",
    "        mylines.append(myline)           \n",
    "\n",
    "school_data = []\n",
    "for i in range(len(mylines)):\n",
    "    school_data.append(mylines[i][83:109])\n",
    "\n",
    "    #school_data"
   ]
  },
  {
   "cell_type": "code",
   "execution_count": null,
   "id": "6fb7283f",
   "metadata": {},
   "outputs": [],
   "source": [
    "def string_to_int_list(s):\n",
    "    # Split the string into a list of individual strings\n",
    "    string_list = s.split()\n",
    "\n",
    "    # Convert each string in the list to an integer\n",
    "    int_list = [int(string) for string in string_list]\n",
    "\n",
    "    # Return the list of integers\n",
    "    return int_list"
   ]
  },
  {
   "cell_type": "code",
   "execution_count": null,
   "id": "b532a938",
   "metadata": {},
   "outputs": [],
   "source": [
    "mylines\n",
    "districts = []\n",
    "district_code = []\n",
    "for i in range(len(mylines)):\n",
    "    districts.append(mylines[i][9:50])\n",
    "    district_code.append(mylines[i][3:8])"
   ]
  },
  {
   "cell_type": "code",
   "execution_count": null,
   "id": "d89001d7",
   "metadata": {},
   "outputs": [],
   "source": [
    "new = []\n",
    "for i in school_data:\n",
    "    new.append(string_to_int_list(i))\n",
    "\n",
    "population = []\n",
    "students = []\n",
    "poverty = []\n",
    "for i in new:\n",
    "    population.append(i[0])\n",
    "    students.append(i[1])\n",
    "    poverty.append(i[2])\n",
    "\n",
    "school_poverty = pd.DataFrame({'District Code': district_code,'District': districts,'Population': population, 'Students': students,'Poverty': poverty})\n",
    "school_poverty[\"% Within Students\"] = school_poverty[\"Poverty\"]/school_poverty[\"Students\"]\n",
    "school_poverty[\"% Within Population\"] = school_poverty[\"Poverty\"]/school_poverty[\"Population\"]\n",
    "\n",
    "school_poverty"
   ]
  },
  {
   "cell_type": "code",
   "execution_count": null,
   "id": "c7ce6a4b",
   "metadata": {},
   "outputs": [],
   "source": [
    "school_poverty[school_poverty[\"% Within Students\"] == max(school_poverty[\"% Within Students\"])]"
   ]
  },
  {
   "cell_type": "code",
   "execution_count": null,
   "id": "faffb2f1",
   "metadata": {},
   "outputs": [],
   "source": [
    "school_poverty[school_poverty[\"Population\"] == max(school_poverty[\"Population\"])]"
   ]
  },
  {
   "cell_type": "code",
   "execution_count": null,
   "id": "002e32b5",
   "metadata": {},
   "outputs": [],
   "source": [
    "plt.figure(figsize=[10,8])\n",
    "plt.scatter(school_poverty['Population'], school_poverty['Poverty'])\n",
    "plt.xlabel('Population')\n",
    "plt.ylabel('Students in Poverty')\n",
    "plt.title('Number of Students in Poverty vs Population\\nAcross Michigan Districts')\n",
    "plt.show()"
   ]
  },
  {
   "cell_type": "code",
   "execution_count": null,
   "id": "6c24108b",
   "metadata": {},
   "outputs": [],
   "source": [
    "plt.figure(figsize=[10,8])\n",
    "plt.scatter(school_poverty['Population'],school_poverty['% Within Students'])\n",
    "plt.title('Proportion of Students in Poverty vs Student Population\\nAcross Michigan Districts')\n",
    "plt.xlabel('Population')\n",
    "plt.ylabel('Proportion of Students in Poverty')\n",
    "plt.show()"
   ]
  },
  {
   "cell_type": "code",
   "execution_count": null,
   "id": "24d95bd5",
   "metadata": {},
   "outputs": [],
   "source": [
    "school_poverty[school_poverty[\"% Within Students\"] > 0.4]"
   ]
  },
  {
   "cell_type": "code",
   "execution_count": null,
   "id": "8571c059",
   "metadata": {},
   "outputs": [],
   "source": []
  }
 ],
 "metadata": {
  "kernelspec": {
   "display_name": "Python 3",
   "language": "python",
   "name": "python3"
  },
  "language_info": {
   "codemirror_mode": {
    "name": "ipython",
    "version": 3
   },
   "file_extension": ".py",
   "mimetype": "text/x-python",
   "name": "python",
   "nbconvert_exporter": "python",
   "pygments_lexer": "ipython3",
   "version": "3.8.8"
  }
 },
 "nbformat": 4,
 "nbformat_minor": 5
}
