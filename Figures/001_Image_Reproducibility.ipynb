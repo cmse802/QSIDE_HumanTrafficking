{
 "cells": [
  {
   "cell_type": "markdown",
   "metadata": {},
   "source": [
    "#### Information on how data in the `001_Image_Reproducibility.ipynb` notebook was generated\n",
    "\n",
    "---\n",
    "\n",
    "1. Read in the excel spreadsheet/data table in which the user is recording the sources of the data using `Pandas`.\n",
    "2. Select the column which indicates what source the data is in.\n",
    "3. Turn the column values into a list and ensure values that contain more than one source are split up\n",
    "4. Count the values of the list and track the labels (ensure the labels are not duplicated)\n",
    "5. Utilize `matplotlib` and `seaborn` to convert the labels and occurrences into a pie chart."
   ]
  },
  {
   "cell_type": "code",
   "execution_count": null,
   "metadata": {},
   "outputs": [],
   "source": [
    "import pandas as pd"
   ]
  },
  {
   "cell_type": "code",
   "execution_count": null,
   "metadata": {},
   "outputs": [],
   "source": [
    "#read in the excel spreadsheet and get the data format column\n",
    "data_format = pd.read_excel('../Data_Bibliography.xlsx')['Data Format']\n",
    "\n",
    "#if there are multiple formats from one sources, this will split based on comma\n",
    "data_source = [x.strip().title() for xs in list(data_format) for x in xs.split(',')]\n",
    "data_source"
   ]
  },
  {
   "cell_type": "code",
   "execution_count": null,
   "metadata": {},
   "outputs": [],
   "source": [
    "#get the counts for number of data sources and the labels\n",
    "counts = []\n",
    "label = []\n",
    "for i in list(set(data_source)):\n",
    "    label.append(i)\n",
    "    counts.append(data_source.count(i))\n",
    "print(counts, label)"
   ]
  },
  {
   "cell_type": "code",
   "execution_count": null,
   "metadata": {},
   "outputs": [],
   "source": [
    "import matplotlib.pyplot as plt\n",
    "import seaborn as sns\n",
    "\n",
    "#define data\n",
    "#data = [15, 25, 25, 30, 5]\n",
    "#labels = ['Group 1', 'Group 2', 'Group 3', 'Group 4', 'Group 5']\n",
    "\n",
    "#define Seaborn color palette to use\n",
    "colors = sns.color_palette('pastel')[0:5]\n",
    "\n",
    "#create pie chart\n",
    "plt.figure(figsize=[10,8])\n",
    "plt.title('Source Type')\n",
    "plt.pie(counts, labels = label, colors = colors, autopct='%.0f%%')\n",
    "plt.show()"
   ]
  }
 ],
 "metadata": {
  "kernelspec": {
   "display_name": "Python 3",
   "language": "python",
   "name": "python3"
  },
  "language_info": {
   "codemirror_mode": {
    "name": "ipython",
    "version": 3
   },
   "file_extension": ".py",
   "mimetype": "text/x-python",
   "name": "python",
   "nbconvert_exporter": "python",
   "pygments_lexer": "ipython3",
   "version": "3.8.8"
  }
 },
 "nbformat": 4,
 "nbformat_minor": 4
}
