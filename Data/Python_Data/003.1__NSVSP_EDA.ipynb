{
 "cells": [
  {
   "cell_type": "markdown",
   "id": "374f7fb0",
   "metadata": {},
   "source": [
    "## Bureau of Justice Statistics – Human Trafficking Data Collection Activities, 2021 \n",
    "\n",
    "**Variable Descriptions found [here](https://www.icpsr.umich.edu/web/NACJD/studies/38149/variables)**.\n",
    "\n",
    "---"
   ]
  },
  {
   "cell_type": "code",
   "execution_count": null,
   "id": "e3ce2c46",
   "metadata": {},
   "outputs": [],
   "source": [
    "import pandas as pd\n",
    "data = pd.read_table(\"../Raw_Data/003.1__NSVSP_data.tsv\")\n",
    "\n",
    "data"
   ]
  }
 ],
 "metadata": {
  "kernelspec": {
   "display_name": "Python 3",
   "language": "python",
   "name": "python3"
  },
  "language_info": {
   "codemirror_mode": {
    "name": "ipython",
    "version": 3
   },
   "file_extension": ".py",
   "mimetype": "text/x-python",
   "name": "python",
   "nbconvert_exporter": "python",
   "pygments_lexer": "ipython3",
   "version": "3.8.8"
  }
 },
 "nbformat": 4,
 "nbformat_minor": 5
}
