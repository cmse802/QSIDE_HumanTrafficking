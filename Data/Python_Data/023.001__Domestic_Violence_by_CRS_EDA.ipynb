{
 "cells": [
  {
   "cell_type": "markdown",
   "id": "22139440",
   "metadata": {},
   "source": [
    "For more information about this data, see `../Raw_Data/023.001__Domestic_Violence_by_CRS.xlsx`."
   ]
  },
  {
   "cell_type": "code",
   "execution_count": null,
   "id": "fa5e17e5",
   "metadata": {},
   "outputs": [],
   "source": [
    "import pandas as pd\n",
    "df = pd.read_excel('../Raw_Data/023.001__Domestic_Violence_by_CRS.xlsx', sheet_name=\"DV Victim County Race Sex\", skiprows=1)\n",
    "\n",
    "df"
   ]
  },
  {
   "cell_type": "code",
   "execution_count": null,
   "id": "44db8f53",
   "metadata": {},
   "outputs": [],
   "source": []
  }
 ],
 "metadata": {
  "kernelspec": {
   "display_name": "Python 3",
   "language": "python",
   "name": "python3"
  },
  "language_info": {
   "codemirror_mode": {
    "name": "ipython",
    "version": 3
   },
   "file_extension": ".py",
   "mimetype": "text/x-python",
   "name": "python",
   "nbconvert_exporter": "python",
   "pygments_lexer": "ipython3",
   "version": "3.8.8"
  }
 },
 "nbformat": 4,
 "nbformat_minor": 5
}
